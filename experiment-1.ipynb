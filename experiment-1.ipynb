{
 "cells": [
  {
   "cell_type": "markdown",
   "id": "eecaf9af",
   "metadata": {},
   "source": [
    "# Mean without using library \n"
   ]
  },
  {
   "cell_type": "code",
   "execution_count": 9,
   "id": "e0a7a9e8",
   "metadata": {},
   "outputs": [
    {
     "name": "stdout",
     "output_type": "stream",
     "text": [
      "2.5\n"
     ]
    }
   ],
   "source": [
    "num=[1,2,3,4]\n",
    "n=len(num)\n",
    "mean=sum(num)/n\n",
    "print(mean)"
   ]
  },
  {
   "cell_type": "markdown",
   "id": "aad159a9",
   "metadata": {},
   "source": [
    "# median without using library"
   ]
  },
  {
   "cell_type": "code",
   "execution_count": 21,
   "id": "2b4d94bc",
   "metadata": {},
   "outputs": [
    {
     "name": "stdout",
     "output_type": "stream",
     "text": [
      "3\n"
     ]
    }
   ],
   "source": [
    "num=[1,2,3,4,5]\n",
    "n=len(num)\n",
    "num.sort()\n",
    "if n%2==0:\n",
    "    med1=num[n//2]\n",
    "    med2=num[n//2-1]\n",
    "    med=(med1+med2)/2\n",
    "    \n",
    "else:\n",
    "    med=num[n//2]\n",
    "print(med)"
   ]
  },
  {
   "cell_type": "markdown",
   "id": "a255c066",
   "metadata": {},
   "source": [
    "# mode without using library"
   ]
  },
  {
   "cell_type": "code",
   "execution_count": 23,
   "id": "9ccb8b42",
   "metadata": {},
   "outputs": [
    {
     "name": "stdout",
     "output_type": "stream",
     "text": [
      "Mode is / are: 5\n"
     ]
    }
   ],
   "source": [
    "from collections import Counter\n",
    "num=[1,2,3,4,5,5]\n",
    "n=len(num)\n",
    "data = Counter(num)\n",
    "get_mode = dict(data)\n",
    "mode = [k for k, v in get_mode.items() if v==max(list(data.values()))]\n",
    "\n",
    "if len(mode) == n:\n",
    "    get_mode = \"No mode found\"\n",
    "\n",
    "else:\n",
    "    get_mode = \"Mode is / are: \" + ', '.join(map(str, mode))\n",
    "\n",
    "print(get_mode)"
   ]
  },
  {
   "cell_type": "markdown",
   "id": "dea43346",
   "metadata": {},
   "source": [
    "# variance"
   ]
  },
  {
   "cell_type": "code",
   "execution_count": 1,
   "id": "1d1c18d1",
   "metadata": {},
   "outputs": [
    {
     "name": "stdout",
     "output_type": "stream",
     "text": [
      "567.3469387755101\n"
     ]
    }
   ],
   "source": [
    "l=[10,20,30,80,50,70,50]\n",
    "l1=[]\n",
    "n=len(l)\n",
    "s=0\n",
    "s1=0\n",
    "for i in range(0,n):\n",
    "    s=s+l[i]\n",
    "mean=s/n\n",
    "for i in range(0,n):\n",
    "    l1.append(l[i]-mean)\n",
    "m=len(l1)\n",
    "for j in range(0,m):\n",
    "    l1[j]=l1[j]**2\n",
    "    s1=s1+l1[j]\n",
    "variance=s1/n\n",
    "print(variance)"
   ]
  },
  {
   "cell_type": "markdown",
   "id": "b198fbc9",
   "metadata": {},
   "source": [
    "# standar devation"
   ]
  },
  {
   "cell_type": "code",
   "execution_count": 1,
   "id": "b70e4e0c",
   "metadata": {},
   "outputs": [
    {
     "name": "stdout",
     "output_type": "stream",
     "text": [
      "23.81904571504724\n"
     ]
    }
   ],
   "source": [
    "import math\n",
    "l=[10,20,30,80,50,70,50]\n",
    "l1=[]\n",
    "n=len(l)\n",
    "s=0\n",
    "s1=0\n",
    "for i in range(0,n):\n",
    "    s=s+l[i]\n",
    "mean=s/n\n",
    "for i in range(0,n):\n",
    "    l1.append(l[i]-mean)\n",
    "m=len(l1)\n",
    "for j in range(0,m):\n",
    "    l1[j]=l1[j]**2\n",
    "    s1=s1+l1[j]\n",
    "variance=s1/n\n",
    "z=math.sqrt(variance)\n",
    "print(z)\n"
   ]
  },
  {
   "cell_type": "code",
   "execution_count": null,
   "id": "d7ca166d",
   "metadata": {},
   "outputs": [],
   "source": []
  }
 ],
 "metadata": {
  "kernelspec": {
   "display_name": "Python 3 (ipykernel)",
   "language": "python",
   "name": "python3"
  },
  "language_info": {
   "codemirror_mode": {
    "name": "ipython",
    "version": 3
   },
   "file_extension": ".py",
   "mimetype": "text/x-python",
   "name": "python",
   "nbconvert_exporter": "python",
   "pygments_lexer": "ipython3",
   "version": "3.10.9"
  }
 },
 "nbformat": 4,
 "nbformat_minor": 5
}
