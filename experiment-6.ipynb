{
 "cells": [
  {
   "cell_type": "code",
   "execution_count": 1,
   "id": "a3828369",
   "metadata": {},
   "outputs": [
    {
     "name": "stdout",
     "output_type": "stream",
     "text": [
      "['A', 'C', 'D', 'E', 'I', 'K', 'M', 'N', 'O', 'U', 'Y']\n"
     ]
    },
    {
     "data": {
      "text/plain": [
       "3"
      ]
     },
     "execution_count": 1,
     "metadata": {},
     "output_type": "execute_result"
    }
   ],
   "source": [
    "data = [\n",
    "        ['T100',['M','O','N','K','E','Y']],\n",
    "        ['T200',['D','O','N','K','E','Y']],\n",
    "        ['T300',['M','A','K','E']],\n",
    "        ['T400',['M','U','C','K','Y']],\n",
    "        ['T500',['C','O','O','K','I','E']]\n",
    "        ]\n",
    "\n",
    "init = []\n",
    "for i in data:\n",
    "    for q in i[1]:\n",
    "        if(q not in init):\n",
    "            init.append(q)\n",
    "init = sorted(init)\n",
    "print(init)\n",
    "sp = 0.6\n",
    "s = int(sp*len(data))\n",
    "s"
   ]
  },
  {
   "cell_type": "code",
   "execution_count": 2,
   "id": "12658165",
   "metadata": {},
   "outputs": [
    {
     "name": "stdout",
     "output_type": "stream",
     "text": [
      "C1:\n",
      "['A']: 1\n",
      "['C']: 2\n",
      "['D']: 1\n",
      "['E']: 4\n",
      "['I']: 1\n",
      "['K']: 5\n",
      "['M']: 3\n",
      "['N']: 2\n",
      "['O']: 3\n",
      "['U']: 1\n",
      "['Y']: 3\n",
      "\n",
      "L1:\n",
      "['E']: 4\n",
      "['K']: 5\n",
      "['M']: 3\n",
      "['O']: 3\n",
      "['Y']: 3\n",
      "\n",
      "C2:\n",
      "['M', 'K']: 3\n",
      "['E', 'Y']: 2\n",
      "['O', 'Y']: 2\n",
      "['M', 'E']: 2\n",
      "['M', 'Y']: 2\n",
      "['E', 'K']: 4\n",
      "['O', 'K']: 3\n",
      "['Y', 'K']: 3\n",
      "['O', 'M']: 1\n",
      "['O', 'E']: 3\n",
      "\n",
      "L2:\n",
      "['M', 'K']: 3\n",
      "['E', 'K']: 4\n",
      "['O', 'K']: 3\n",
      "['Y', 'K']: 3\n",
      "['O', 'E']: 3\n",
      "\n",
      "C3:\n",
      "['O', 'E', 'K']: 3\n",
      "['E', 'Y', 'K']: 2\n",
      "['M', 'Y', 'K']: 2\n",
      "['M', 'E', 'K']: 2\n",
      "['O', 'M', 'K']: 1\n",
      "['O', 'Y', 'K']: 2\n",
      "\n",
      "L3:\n",
      "['O', 'E', 'K']: 3\n",
      "\n",
      "C4:\n",
      "\n",
      "L4:\n",
      "\n",
      "Result: \n",
      "L3:\n",
      "['O', 'E', 'K']: 3\n",
      "\n"
     ]
    }
   ],
   "source": [
    "from collections import Counter\n",
    "c = Counter()\n",
    "for i in init:\n",
    "    for d in data:\n",
    "        if(i in d[1]):\n",
    "            c[i]+=1\n",
    "print(\"C1:\")\n",
    "for i in c:\n",
    "    print(str([i])+\": \"+str(c[i]))\n",
    "print()\n",
    "l = Counter()\n",
    "for i in c:\n",
    "    if(c[i] >= s):\n",
    "        l[frozenset([i])]+=c[i]\n",
    "print(\"L1:\")\n",
    "for i in l:\n",
    "    print(str(list(i))+\": \"+str(l[i]))\n",
    "print()\n",
    "pl = l\n",
    "pos = 1\n",
    "for count in range (2,1000):\n",
    "    nc = set()\n",
    "    temp = list(l)\n",
    "    for i in range(0,len(temp)):\n",
    "        for j in range(i+1,len(temp)):\n",
    "            t = temp[i].union(temp[j])\n",
    "            if(len(t) == count):\n",
    "                nc.add(temp[i].union(temp[j]))\n",
    "    nc = list(nc)\n",
    "    c = Counter()\n",
    "    for i in nc:\n",
    "        c[i] = 0\n",
    "        for q in data:\n",
    "            temp = set(q[1])\n",
    "            if(i.issubset(temp)):\n",
    "                c[i]+=1\n",
    "    print(\"C\"+str(count)+\":\")\n",
    "    for i in c:\n",
    "        print(str(list(i))+\": \"+str(c[i]))\n",
    "    print()\n",
    "    l = Counter()\n",
    "    for i in c:\n",
    "        if(c[i] >= s):\n",
    "            l[i]+=c[i]\n",
    "    print(\"L\"+str(count)+\":\")\n",
    "    for i in l:\n",
    "        print(str(list(i))+\": \"+str(l[i]))\n",
    "    print()\n",
    "    if(len(l) == 0):\n",
    "        break\n",
    "    pl = l\n",
    "    pos = count\n",
    "print(\"Result: \")\n",
    "print(\"L\"+str(pos)+\":\")\n",
    "for i in pl:\n",
    "    print(str(list(i))+\": \"+str(pl[i]))\n",
    "print()\n"
   ]
  },
  {
   "cell_type": "code",
   "execution_count": null,
   "id": "b4bf4434",
   "metadata": {},
   "outputs": [],
   "source": []
  }
 ],
 "metadata": {
  "kernelspec": {
   "display_name": "Python 3 (ipykernel)",
   "language": "python",
   "name": "python3"
  },
  "language_info": {
   "codemirror_mode": {
    "name": "ipython",
    "version": 3
   },
   "file_extension": ".py",
   "mimetype": "text/x-python",
   "name": "python",
   "nbconvert_exporter": "python",
   "pygments_lexer": "ipython3",
   "version": "3.10.9"
  }
 },
 "nbformat": 4,
 "nbformat_minor": 5
}
